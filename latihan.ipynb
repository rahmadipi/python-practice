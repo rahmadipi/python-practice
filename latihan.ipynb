{
 "cells": [
  {
   "cell_type": "markdown",
   "metadata": {},
   "source": [
    "Print manipulation"
   ]
  },
  {
   "cell_type": "code",
   "execution_count": 1,
   "metadata": {},
   "outputs": [
    {
     "name": "stdout",
     "output_type": "stream",
     "text": [
      "hissssssssss....!\n",
      "a b c\n",
      "abc\n",
      "testing\n",
      "halo halo\n",
      "\\tehe\n"
     ]
    }
   ],
   "source": [
    "msg=\"hissssssssss....!\"\n",
    "print(msg)\n",
    "print(\"a\",\"b\",\"c\")\n",
    "print(\"a\" \"b\" \"c\")\n",
    "print(\"testing\\nhalo halo\\n\\\\tehe\")"
   ]
  },
  {
   "cell_type": "code",
   "execution_count": 2,
   "metadata": {},
   "outputs": [
    {
     "name": "stdout",
     "output_type": "stream",
     "text": [
      "a b-tes\n",
      "halo nama saya adalah\n",
      "halonamasayaadalah\n",
      "halo\\nama\\saya\\adalah\n",
      "halo nama saya adalah\n"
     ]
    }
   ],
   "source": [
    "print(\"a\",\"b\",end=\"-\")\n",
    "print(\"tes\",end=None)\n",
    "print(\"halo\",\"nama\",\"saya\",\"adalah\",sep=None)\n",
    "#print(\"aaaaaaaaaaaaaaaaaaaaaaaaaaaaaaaaaaaaa\")\n",
    "print(\"halo\",\"nama\",\"saya\",\"adalah\",sep=\"\")\n",
    "print(\"halo\",\"nama\",\"saya\",\"adalah\",sep=\"\\\\\")\n",
    "print(\"halo nama saya adalah\",sep=\"-\")"
   ]
  },
  {
   "cell_type": "code",
   "execution_count": 3,
   "metadata": {},
   "outputs": [
    {
     "name": "stdout",
     "output_type": "stream",
     "text": [
      "\"Kel9' \\n \"\n",
      "\"Kel9' \\n \"\n",
      "\"Kel9' \\n \"\n"
     ]
    }
   ],
   "source": [
    "print('\"',\"Kel9' \\\\n \",'\"',sep=\"\")\n",
    "print(repr(\"Kel9' \\n \"))\n",
    "print(\"\\\"Kel9' \\\\n \\\"\")"
   ]
  },
  {
   "cell_type": "markdown",
   "metadata": {},
   "source": [
    "Literals: integer, float, boolean, string"
   ]
  },
  {
   "cell_type": "code",
   "execution_count": 4,
   "metadata": {},
   "outputs": [
    {
     "name": "stdout",
     "output_type": "stream",
     "text": [
      "83 156 octal\n",
      "291 837 hexa\n",
      "12345 12345 -12345 1.0 0.002 345.0 1e-20\n"
     ]
    }
   ],
   "source": [
    "print(0o123,0O234,\"octal\")\n",
    "print(0x123,0X345,\"hexa\")\n",
    "print(+12345,12_34_5,-1_23_45,.1e1,2.e-3,3.45E2,0.00000000000000000001)"
   ]
  },
  {
   "cell_type": "code",
   "execution_count": 2,
   "metadata": {},
   "outputs": [
    {
     "name": "stdout",
     "output_type": "stream",
     "text": [
      "True\n",
      "False\n",
      "30000000000\n",
      "<class 'int'> <class 'str'> <class 'float'>\n",
      "5 8 10\n"
     ]
    }
   ],
   "source": [
    "print(True>False)\n",
    "print(True<False)\n",
    "print(int(3e10))\n",
    "print(type(3),type(\"\"),type(4.))\n",
    "x, y, z = 5, 10, 8\n",
    "print(x,z,y)"
   ]
  },
  {
   "cell_type": "code",
   "execution_count": 9,
   "metadata": {},
   "outputs": [
    {
     "name": "stdout",
     "output_type": "stream",
     "text": [
      "<class 'int'>\n",
      "<class 'float'>\n",
      "<class 'str'>\n",
      "<class 'bool'>\n",
      "[<class 'int'>, <class 'float'>, <class 'str'>, <class 'bool'>]\n"
     ]
    }
   ],
   "source": [
    "x=[5,4.,\"a\",True]\n",
    "for a in x:\n",
    "    print(type(a))\n",
    "print([type(e) for e in x])"
   ]
  },
  {
   "cell_type": "markdown",
   "metadata": {},
   "source": [
    "Arithmetic"
   ]
  },
  {
   "cell_type": "code",
   "execution_count": 10,
   "metadata": {},
   "outputs": [
    {
     "name": "stdout",
     "output_type": "stream",
     "text": [
      "-8.0\n",
      "-2 1\n",
      "256\n"
     ]
    }
   ],
   "source": [
    "print(1+2*3/4//2%2-3**2) #float included will make everything float except \"/\", always float\n",
    "print(-6 // 4,6 // 4) #rounded to always lesser one\n",
    "print(2**2**3) #only ** is right-sided binding"
   ]
  },
  {
   "cell_type": "code",
   "execution_count": 11,
   "metadata": {},
   "outputs": [
    {
     "name": "stdout",
     "output_type": "stream",
     "text": [
      "9.86\n",
      "-15.14\n",
      "1.0\n"
     ]
    }
   ],
   "source": [
    "x=3.14\n",
    "x **= 2\n",
    "print(round(x,2))\n",
    "x-=(5*5)\n",
    "print(round(x,2))\n",
    "a = 6\n",
    "b = 3\n",
    "a /= 2 * b #sama dengan a=a/(2*b)\n",
    "print(a)\n",
    "# comment bisa pakai ctrl+/"
   ]
  },
  {
   "cell_type": "markdown",
   "metadata": {},
   "source": [
    "Input"
   ]
  },
  {
   "cell_type": "code",
   "execution_count": 13,
   "metadata": {},
   "outputs": [
    {
     "name": "stdout",
     "output_type": "stream",
     "text": [
      "af0000000000\n",
      "7\n"
     ]
    }
   ],
   "source": [
    "tes=input()\n",
    "tes2=input(\"hadeh\") #its the console title\n",
    "print(tes+tes2+\"00\"*5)\n",
    "anything = int(float(input(\"Enter a number: \")))\n",
    "print(anything)"
   ]
  },
  {
   "cell_type": "code",
   "execution_count": 14,
   "metadata": {},
   "outputs": [
    {
     "name": "stdout",
     "output_type": "stream",
     "text": [
      "+----------+\n",
      "|          |\n",
      "|          |\n",
      "|          |\n",
      "|          |\n",
      "|          |\n",
      "+----------+\n",
      "\n",
      "56777\n",
      "0.30000000000000004\n",
      "0.3\n"
     ]
    }
   ],
   "source": [
    "from fractions import *\n",
    "\n",
    "print(\"+\" + 10 * \"-\" + \"+\")\n",
    "print((\"|\" + \" \" * 10 + \"|\\n\") * 5, end=\"\")\n",
    "print(\"+\" + 10 * \"-\" + \"+\")\n",
    "print(\"aaa\"*0)\n",
    "print(str(567)+\"77\")\n",
    "print(0.1+0.2) #hasil akan panjaaaaaang, weird\n",
    "print(float(Fraction(1,10)+Fraction(2,10))) #penyelesaian "
   ]
  },
  {
   "cell_type": "markdown",
   "metadata": {},
   "source": [
    "Comparison"
   ]
  },
  {
   "cell_type": "code",
   "execution_count": 1,
   "metadata": {},
   "outputs": [
    {
     "name": "stdout",
     "output_type": "stream",
     "text": [
      "True\n",
      "False\n",
      "False\n"
     ]
    }
   ],
   "source": [
    "print(2==2.)\n",
    "print(2!=2)\n",
    "n=int(input())\n",
    "print(n>=100)"
   ]
  },
  {
   "cell_type": "markdown",
   "metadata": {},
   "source": [
    "Conditional instruction"
   ]
  },
  {
   "cell_type": "code",
   "execution_count": 1,
   "metadata": {},
   "outputs": [
    {
     "name": "stdout",
     "output_type": "stream",
     "text": [
      "satu\n"
     ]
    }
   ],
   "source": [
    "menu=int(input(\"pilih menu: \"))\n",
    "if menu==1:\n",
    "    x=\"satu\"\n",
    "elif menu==2:\n",
    "    x=\"dua\"\n",
    "else:\n",
    "    x=\"bukan satu atau dua\"\n",
    "print(x)"
   ]
  },
  {
   "cell_type": "code",
   "execution_count": 3,
   "metadata": {},
   "outputs": [
    {
     "name": "stdout",
     "output_type": "stream",
     "text": [
      "-999999999\n"
     ]
    }
   ],
   "source": [
    "largest_number = -999999999\n",
    "number = int(input())\n",
    "if number == -1:\n",
    "    print(largest_number)\n",
    "    exit()\n",
    "if number > largest_number:\n",
    "    largest_number = number\n",
    "# Go to line 02"
   ]
  },
  {
   "cell_type": "markdown",
   "metadata": {},
   "source": [
    "Loops"
   ]
  },
  {
   "cell_type": "code",
   "execution_count": null,
   "metadata": {},
   "outputs": [],
   "source": [
    "while True: #infinite loop\n",
    "    print(\"I'm stuck inside a loop.\") "
   ]
  },
  {
   "cell_type": "code",
   "execution_count": 4,
   "metadata": {},
   "outputs": [
    {
     "name": "stdout",
     "output_type": "stream",
     "text": [
      "\n",
      "+================================+\n",
      "| Welcome to my game, muggle!    |\n",
      "| Enter an integer number        |\n",
      "| and guess what number I've     |\n",
      "| picked for you.                |\n",
      "| So, what is the secret number? |\n",
      "+================================+\n",
      "\n"
     ]
    }
   ],
   "source": [
    "print(\n",
    "\"\"\"\n",
    "+================================+\n",
    "| Welcome to my game, muggle!    |\n",
    "| Enter an integer number        |\n",
    "| and guess what number I've     |\n",
    "| picked for you.                |\n",
    "| So, what is the secret number? |\n",
    "+================================+\n",
    "\"\"\")\n"
   ]
  },
  {
   "cell_type": "code",
   "execution_count": 5,
   "metadata": {},
   "outputs": [
    {
     "name": "stdout",
     "output_type": "stream",
     "text": [
      "The value of i is currently 2\n",
      "The value of i is currently 5\n"
     ]
    }
   ],
   "source": [
    "for i in range(2, 8, 3):\n",
    "    print(\"The value of i is currently\", i)"
   ]
  },
  {
   "cell_type": "code",
   "execution_count": 6,
   "metadata": {},
   "outputs": [
    {
     "name": "stdout",
     "output_type": "stream",
     "text": [
      "The break instruction:\n",
      "Inside the loop. 1\n",
      "Inside the loop. 2\n",
      "Outside the loop.\n",
      "\n",
      "The continue instruction:\n",
      "Inside the loop. 1\n",
      "Inside the loop. 2\n",
      "Inside the loop. 4\n",
      "Inside the loop. 5\n",
      "Outside the loop.\n"
     ]
    }
   ],
   "source": [
    "print(\"The break instruction:\")\n",
    "for i in range(1, 6):\n",
    "    if i == 3:\n",
    "        break\n",
    "    print(\"Inside the loop.\", i)\n",
    "print(\"Outside the loop.\")\n",
    "\n",
    "\n",
    "# continue - example\n",
    "\n",
    "print(\"\\nThe continue instruction:\")\n",
    "for i in range(1, 6):\n",
    "    if i == 3:\n",
    "        continue\n",
    "    print(\"Inside the loop.\", i)\n",
    "print(\"Outside the loop.\")"
   ]
  },
  {
   "cell_type": "code",
   "execution_count": 7,
   "metadata": {},
   "outputs": [
    {
     "name": "stdout",
     "output_type": "stream",
     "text": [
      "1\n",
      "2\n",
      "3\n",
      "4\n",
      "else: 5\n"
     ]
    }
   ],
   "source": [
    "i = 1\n",
    "while i < 5:\n",
    "    print(i)\n",
    "    i += 1\n",
    "else:\n",
    "    print(\"else:\", i)"
   ]
  },
  {
   "cell_type": "markdown",
   "metadata": {},
   "source": [
    "Logical operators"
   ]
  },
  {
   "cell_type": "code",
   "execution_count": 22,
   "metadata": {},
   "outputs": [
    {
     "name": "stdout",
     "output_type": "stream",
     "text": [
      "False\n",
      "False\n",
      "0\n",
      "1\n",
      "1\n"
     ]
    }
   ],
   "source": [
    "i = 1\n",
    "j = not i\n",
    "print(j)\n",
    "print(True ^ True)\n",
    "x=1\n",
    "y=0\n",
    "z = x & y\n",
    "print(z)\n",
    "z = x | y\n",
    "print(z)\n",
    "z = x ^ y\n",
    "print(z)"
   ]
  },
  {
   "cell_type": "markdown",
   "metadata": {},
   "source": [
    "Lists"
   ]
  },
  {
   "cell_type": "code",
   "execution_count": 44,
   "metadata": {},
   "outputs": [
    {
     "name": "stdout",
     "output_type": "stream",
     "text": [
      "6\n",
      "5\n",
      "[0, 1, 2, 3, 4, 6, 5]\n",
      "[0, 1, 2, 3, 4, 6, 5, 6]\n",
      "[0, 1, 2, 3, 4, 5, 6]\n",
      "[2]\n",
      "[1]\n",
      "[8, 6]\n",
      "[]\n"
     ]
    }
   ],
   "source": [
    "numbers=[0,1,2,3,4,5]\n",
    "print(len(numbers))\n",
    "print(numbers[-1])\n",
    "numbers.insert(5,6)\n",
    "print(numbers)\n",
    "numbers.append(6)\n",
    "print(numbers)\n",
    "del numbers[5]\n",
    "print(numbers)\n",
    "\n",
    "#list are connected if we equal it to another\n",
    "list_1 = [1]\n",
    "list_2 = list_1\n",
    "list_1[0] = 2\n",
    "print(list_2)\n",
    "\n",
    "# Copying the entire list.\n",
    "list_1 = [1]\n",
    "list_2 = list_1[:]\n",
    "list_1[0] = 2\n",
    "print(list_2)\n",
    "\n",
    "# Copying some part of the list.\n",
    "my_list = [10, 8, 6, 4, 2]\n",
    "new_list = my_list[1:3]\n",
    "print(new_list)\n",
    "\n",
    "# deleting list content\n",
    "my_list = [10, 8, 6, 4, 2]\n",
    "del my_list[:]\n",
    "print(my_list)"
   ]
  },
  {
   "cell_type": "markdown",
   "metadata": {},
   "source": [
    "Sorting"
   ]
  },
  {
   "cell_type": "code",
   "execution_count": 41,
   "metadata": {},
   "outputs": [
    {
     "name": "stdout",
     "output_type": "stream",
     "text": [
      "[2, 4, 6, 8, 10]\n",
      "[2, 4, 6, 8, 10]\n",
      "[10, 8, 6, 4, 2]\n"
     ]
    }
   ],
   "source": [
    "# bubble sort\n",
    "my_list = [8, 10, 6, 2, 4]  # list to sort\n",
    "swapped = True  # It's a little fake, we need it to enter the while loop.\n",
    "\n",
    "while swapped:\n",
    "    swapped = False  # no swaps so far\n",
    "    for i in range(len(my_list) - 1):\n",
    "        if my_list[i] > my_list[i + 1]:\n",
    "            swapped = True  # a swap occurred!\n",
    "            my_list[i], my_list[i + 1] = my_list[i + 1], my_list[i]\n",
    "\n",
    "print(my_list)\n",
    "\n",
    "my_list = [8, 10, 6, 2, 4]\n",
    "my_list.sort()\n",
    "print(my_list)\n",
    "my_list.reverse()\n",
    "print(my_list)"
   ]
  }
 ],
 "metadata": {
  "interpreter": {
   "hash": "f1561c4f2ca18006a46091258f3c763b7952f3694b5455dc2bd5b05664346277"
  },
  "kernelspec": {
   "display_name": "Python 3.10.2 64-bit",
   "language": "python",
   "name": "python3"
  },
  "language_info": {
   "codemirror_mode": {
    "name": "ipython",
    "version": 3
   },
   "file_extension": ".py",
   "mimetype": "text/x-python",
   "name": "python",
   "nbconvert_exporter": "python",
   "pygments_lexer": "ipython3",
   "version": "3.9.7"
  },
  "orig_nbformat": 4
 },
 "nbformat": 4,
 "nbformat_minor": 2
}
