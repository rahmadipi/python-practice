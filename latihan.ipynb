{
 "cells": [
  {
   "cell_type": "code",
   "execution_count": null,
   "metadata": {},
   "outputs": [],
   "source": [
    "msg=\"hissssssssss....!\"\n",
    "print(msg)\n",
    "print(\"a\",\"b\",\"c\")\n",
    "print(\"a\" \"b\" \"c\")\n",
    "print(\"testing\\nhalo halo\\n\\\\tehe\")"
   ]
  },
  {
   "cell_type": "code",
   "execution_count": null,
   "metadata": {},
   "outputs": [],
   "source": [
    "print(\"a\",\"b\",end=\"-\")\n",
    "print(\"tes\",end=None)\n",
    "print(\"halo\",\"nama\",\"saya\",\"adalah\",sep=None)\n",
    "#print(\"aaaaaaaaaaaaaaaaaaaaaaaaaaaaaaaaaaaaa\")\n",
    "print(\"halo\",\"nama\",\"saya\",\"adalah\",sep=\"\")\n",
    "print(\"halo\",\"nama\",\"saya\",\"adalah\",sep=\"\\\\\")\n",
    "print(\"halo nama saya adalah\",sep=\"-\")"
   ]
  },
  {
   "cell_type": "code",
   "execution_count": null,
   "metadata": {},
   "outputs": [],
   "source": [
    "print('\"',\"Kel9' \\\\n \",'\"',sep=\"\")\n",
    "print(repr(\"Kel9' \\n \"))\n",
    "print(\"\\\"Kel9' \\\\n \\\"\")"
   ]
  },
  {
   "cell_type": "code",
   "execution_count": null,
   "metadata": {},
   "outputs": [],
   "source": [
    "print(0o123,0O234,\"octal\")\n",
    "print(0x123,0X345,\"hexa\")\n",
    "print(+12345,12_34_5,-1_23_45,.1e1,2.e-3,3.45E2,0.00000000000000000001)"
   ]
  },
  {
   "cell_type": "code",
   "execution_count": null,
   "metadata": {},
   "outputs": [],
   "source": [
    "print(True>False)\n",
    "print(True<False)\n",
    "print(int(3e10))\n",
    "print(type(3),type(\"\"),type(4.))"
   ]
  },
  {
   "cell_type": "code",
   "execution_count": null,
   "metadata": {},
   "outputs": [],
   "source": [
    "x=[5,4.,\"a\",True]\n",
    "for a in x:\n",
    "    print(type(a))\n",
    "print([type(e) for e in x])\n",
    "print(1+2*3/4//2%2-3**2) #float included will make everything float except \"/\", always float\n",
    "print(-6 // 4,6 // 4) #rounded to always lesser one\n",
    "print(2**2**3) #only ** is right-sided binding"
   ]
  },
  {
   "cell_type": "code",
   "execution_count": null,
   "metadata": {},
   "outputs": [],
   "source": [
    "x=3.14\n",
    "x **= 2\n",
    "print(round(x,2))\n",
    "x-=(5*5)\n",
    "print(round(x,2))\n",
    "a = 6\n",
    "b = 3\n",
    "a /= 2 * b #sama dengan a=a/(2*b)\n",
    "print(a)\n",
    "# comment bisa pakai ctrl+/"
   ]
  },
  {
   "cell_type": "code",
   "execution_count": null,
   "metadata": {},
   "outputs": [],
   "source": [
    "tes=input()\n",
    "tes2=input(\"hadeh\") #its the console title\n",
    "print(tes+tes2+\"00\"*5)\n",
    "anything = int(float(input(\"Enter a number: \")))"
   ]
  },
  {
   "cell_type": "code",
   "execution_count": 19,
   "metadata": {},
   "outputs": [
    {
     "name": "stdout",
     "output_type": "stream",
     "text": [
      "+----------+\n",
      "|          |\n",
      "|          |\n",
      "|          |\n",
      "|          |\n",
      "|          |\n",
      "+----------+\n",
      "\n",
      "56777\n",
      "0.30000000000000004\n",
      "0.3\n"
     ]
    }
   ],
   "source": [
    "from fractions import *\n",
    "\n",
    "print(\"+\" + 10 * \"-\" + \"+\")\n",
    "print((\"|\" + \" \" * 10 + \"|\\n\") * 5, end=\"\")\n",
    "print(\"+\" + 10 * \"-\" + \"+\")\n",
    "print(\"aaa\"*0)\n",
    "print(str(567)+\"77\")\n",
    "print(0.1+0.2) #hasil akan panjaaaaaang, weird\n",
    "print(float(Fraction(1,10)+Fraction(2,10))) #penyelesaian "
   ]
  },
  {
   "cell_type": "code",
   "execution_count": null,
   "metadata": {},
   "outputs": [],
   "source": []
  }
 ],
 "metadata": {
  "interpreter": {
   "hash": "f1561c4f2ca18006a46091258f3c763b7952f3694b5455dc2bd5b05664346277"
  },
  "kernelspec": {
   "display_name": "Python 3.10.2 64-bit",
   "language": "python",
   "name": "python3"
  },
  "language_info": {
   "codemirror_mode": {
    "name": "ipython",
    "version": 3
   },
   "file_extension": ".py",
   "mimetype": "text/x-python",
   "name": "python",
   "nbconvert_exporter": "python",
   "pygments_lexer": "ipython3",
   "version": "3.9.7"
  },
  "orig_nbformat": 4
 },
 "nbformat": 4,
 "nbformat_minor": 2
}
